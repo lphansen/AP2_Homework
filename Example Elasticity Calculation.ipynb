{
 "cells": [
  {
   "cell_type": "code",
   "execution_count": 1,
   "metadata": {},
   "outputs": [],
   "source": [
    "from utils import *\n",
    "import matplotlib.pyplot as plt\n",
    "import time\n",
    "from amf import *\n",
    "from tri_ss import *\n",
    "import warnings\n",
    "\n",
    "warnings.filterwarnings('ignore')"
   ]
  },
  {
   "cell_type": "markdown",
   "metadata": {},
   "source": [
    "We use as an example the economy from Bansal and Yaron (2004).\n",
    "$$\\begin{eqnarray}\n",
    "x_{t+1}&=&\\rho x_{t}+\\mathrm{h}\\varphi_{e}\\sigma_{t}e_{t+1}\\\\\\sigma_{t+1}^{2}&=&\\sigma^{2}+\\nu_{1}\\left(\\sigma_{t}^{2}-\\sigma^{2}\\right)+\\mathrm{h}\\sigma_{w}w_{t+1}\\\\c_{t+1}-c_{t}&=&\\mu+x_{t}+\\mathrm{h}\\sigma_{t}\\eta_{t+1}\\\\g_{t+1}-g_{t}&=&\\mu_{d}+\\phi x_{t}+\\mathrm{h}\\varphi_{d}\\sigma_{t}u_{t+1}\\\\\n",
    "\\end{eqnarray}$$\n",
    "\n",
    "where $x_t$ is the long-run expected growth, $\\sigma_t$ is the stochastic volatility, $c_{t+1}-c_t$ is the logarithm of consumption growth, $g_{t+1}-g_t$ is the logarithm of dividend growth, and $e_{t+1},w_{t+1},\\eta_{t+1},u_{t+1}\\sim N\\left(0,1\\right)$. \n",
    "\n",
    "For simplicity, denote the state vector and shock vector as\n",
    "\n",
    "$$\n",
    "X_t = \\left[\\begin{array}{c} x_t\\\\ \\sigma_t \\end{array}\\right], W_{t+1} = \\left[\\begin{array}{c}e_{t+1}\\\\ w_{t+1} \\\\ \\eta_{t+1} \\\\ u_{t+1}\\end{array}\\right]\n",
    "$$"
   ]
  },
  {
   "cell_type": "code",
   "execution_count": 2,
   "metadata": {},
   "outputs": [],
   "source": [
    "ρ = 1.0000001\n",
    "γ = 10\n",
    "β = 0.998"
   ]
  },
  {
   "cell_type": "code",
   "execution_count": 3,
   "metadata": {},
   "outputs": [],
   "source": [
    "ψ_x, ψ_w, ψ_q, ψ_xx, ψ_xw, ψ_xq, ψ_ww, ψ_wq, ψ_qq, \\\n",
    "    Γ_0_g, Γ_1_g, Γ_2_g, Γ_3_g, Ψ_0_g, Ψ_1_g, Ψ_2_g, \\\n",
    "    Γ_0_sg, Γ_1_sg, Γ_2_sg, Γ_3_sg, Ψ_0_sg, Ψ_1_sg, Ψ_2_sg = derivs_BY(\"C\", ρ, γ, β)"
   ]
  },
  {
   "cell_type": "markdown",
   "metadata": {},
   "source": [
    "The $\\psi$ coefficients denote the derivatives of the state evolution function $X_{t+1} = \\psi(X_t(q), qW_{t+1}, q)$.\n",
    "\n",
    "We use $\\mathscr{P}$ := $\\left(\\Gamma_i,\\Psi_i\\right)$ to denote the coefficients of the quadratic function\n",
    "\n",
    "\\begin{equation}\n",
    "y_{t+1}-y_t = \\Gamma_0 + \\Gamma_1 X_t^1 + \\Gamma_2 X_t^2 + \\Gamma_3 \\left(X_t^1 \\otimes X_t^1\\right) + \\Psi_0W_{t+1} + \\Psi_1 \\left(X_t^1 \\otimes W_{t+1}\\right) + \\Psi_2 \\left(W_{t+1} \\otimes W_{t+1}\\right)\\tag{1}\n",
    "\\end{equation}\n",
    "\n",
    "$\\mathscr{P}_{sg}$ will correspond to $y_{t+1}-y_t = s_{t+1} - s_t + c_{t+1} - c_t$ and $\\mathscr{P}_g$ will correspond to $y_{t+1}-y_t = c_{t+1} - c_t$"
   ]
  },
  {
   "cell_type": "code",
   "execution_count": 4,
   "metadata": {},
   "outputs": [],
   "source": [
    "𝒫_sg = (Γ_0_sg, Γ_1_sg, Γ_2_sg, Γ_3_sg, Ψ_0_sg, Ψ_1_sg, Ψ_2_sg)\n",
    "𝒫_g = (Γ_0_g, Γ_1_g, Γ_2_g, Γ_3_g, Ψ_0_g, Ψ_1_g, Ψ_2_g)\n",
    "perturbed_model_params = {\n",
    "        'ψ_q': ψ_q,\n",
    "        'ψ_x': ψ_x,\n",
    "        'ψ_w': ψ_w,\n",
    "        'ψ_qq': ψ_qq,\n",
    "        'ψ_xq': ψ_xq,\n",
    "        'ψ_x': ψ_x,\n",
    "        'ψ_xx': ψ_xx,\n",
    "        'ψ_wq': ψ_wq,\n",
    "        'ψ_xw': ψ_xw,\n",
    "        'ψ_ww': ψ_ww\n",
    "        }\n",
    "triss = map_perturbed_model_to_tri_ss(perturbed_model_params)\n",
    "amf_sg = Amf(𝒫_sg, triss)\n",
    "amf_g = Amf(𝒫_g, triss)"
   ]
  },
  {
   "cell_type": "markdown",
   "metadata": {},
   "source": [
    "We can now compute elasticities as follows"
   ]
  },
  {
   "cell_type": "code",
   "execution_count": 5,
   "metadata": {},
   "outputs": [],
   "source": [
    "def get_elasticities(amf_g, amf_sg, α_h, x, num_periods):\n",
    "    \"\"\"\n",
    "    Compute shock exposure and price elasticities.\n",
    "    \n",
    "    Parameters:\n",
    "    -----------\n",
    "    amf_g: Amf object\n",
    "        The amf object where Y_{t+1}/Y_t specifies growth rate only.\n",
    "    amf_sg: Amf object\n",
    "        The amf object where Y_{t+1}/Y_t specifies growth rate times SDF.\n",
    "    α_h: ndarray(float, dim=1)\n",
    "        A scalar specifying the shock for the elasticity.\n",
    "    x: ndarray(float, dim=2)\n",
    "        A vector of the first order approximation of the state.\n",
    "    num_periods: integer\n",
    "        The number of periods to calculate the elasticities.\n",
    "        \n",
    "    Returns:\n",
    "    --------\n",
    "    ϵ_g: ndarray(float, dim=1)\n",
    "        A vector of exposure elasticities.\n",
    "    ϵ_p: ndarray(float, dim=1)\n",
    "        A vector of price elasticities.\n",
    "    \"\"\"\n",
    "    ϵ_g = onp.zeros(num_periods - 1)\n",
    "    ϵ_p = onp.zeros(num_periods - 1)\n",
    "\n",
    "    for t in range(num_periods - 1):\n",
    "        ϵ_g[t] = amf_g.ε(x, t + 1, α_h)\n",
    "        ϵ_p[t] = amf_g.ε(x, t + 1, α_h) - amf_sg.ε(x, t + 1, α_h)\n",
    "        \n",
    "    return ϵ_g, ϵ_p"
   ]
  },
  {
   "cell_type": "code",
   "execution_count": 6,
   "metadata": {},
   "outputs": [],
   "source": [
    "x = onp.array([[0,0]])\n",
    "\n",
    "# Compute shock exposure and price elasticties to the first dimensional shock at mean states\n",
    "ϵ_g, ϵ_p = get_elasticities(amf_g, amf_sg, onp.array([1, 0, 0, 0]), x, 100)"
   ]
  },
  {
   "cell_type": "code",
   "execution_count": 7,
   "metadata": {},
   "outputs": [
    {
     "data": {
      "image/png": "[encoded data removed]",
      "text/plain": [
       "<Figure size 432x288 with 1 Axes>"
      ]
     },
     "metadata": {
      "needs_background": "light"
     },
     "output_type": "display_data"
    }
   ],
   "source": [
    "plt.plot(ϵ_p)\n",
    "plt.show()"
   ]
  }
 ],
 "metadata": {
  "kernelspec": {
   "display_name": "Python 3",
   "language": "python",
   "name": "python3"
  },
  "language_info": {
   "codemirror_mode": {
    "name": "ipython",
    "version": 3
   },
   "file_extension": ".py",
   "mimetype": "text/x-python",
   "name": "python",
   "nbconvert_exporter": "python",
   "pygments_lexer": "ipython3",
   "version": "3.7.4"
  }
 },
 "nbformat": 4,
 "nbformat_minor": 2
}
